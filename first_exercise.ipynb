{
  "metadata": {
    "kernelspec": {
      "name": "python",
      "display_name": "Python (Pyodide)",
      "language": "python"
    },
    "language_info": {
      "codemirror_mode": {
        "name": "python",
        "version": 3
      },
      "file_extension": ".py",
      "mimetype": "text/x-python",
      "name": "python",
      "nbconvert_exporter": "python",
      "pygments_lexer": "ipython3",
      "version": "3.8"
    }
  },
  "nbformat_minor": 4,
  "nbformat": 4,
  "cells": [
    {
      "cell_type": "markdown",
      "source": "# Data Science Tools and Ecosystem",
      "metadata": {}
    },
    {
      "cell_type": "markdown",
      "source": "## Introduction\nIn this notebook, Data Science Tools and Ecosystem are summarized.\n",
      "metadata": {}
    },
    {
      "cell_type": "markdown",
      "source": "Some of the popular languages that Data Scientists use are:\n\n\n1. SQL\n2. PYTHON\n3. JAVA\n4. SPARK",
      "metadata": {
        "jp-MarkdownHeadingCollapsed": true
      }
    },
    {
      "cell_type": "markdown",
      "source": "Some of the commonly used libraries used by Data Scientists include:\n\n\n1. NumPy\n2. Pandas\n3. Matplotlib\n4. Seaborn\n5. Scikit-Learn\n6. TensorFlow\n7. Keras\n8. PyTorch\n",
      "metadata": {
        "jp-MarkdownHeadingCollapsed": true
      }
    },
    {
      "cell_type": "markdown",
      "source": "DATA SCIENCE TOOLS\n\n| DATA SCIENCE TOOLS |\n| ------- |\n| Jupyter Notebook |\n| Apache Spark |\n| Knime |\n| Git |\n| Apache Hadoop |\n| Google Colab |\n| CassandraDB |\n| MongoDB |\n| PostgreSQL |\n| MySQL |\n| ORACLEDB |",
      "metadata": {}
    },
    {
      "cell_type": "markdown",
      "source": "Below are a few examples of evaluating arithmetic expressions in Python.\n\nAddition: `3 + 5` → 8\nSubtraction: `10 - 4` → 6\nMultiplication: `6 * 7` → 42\nDivision: `20 / 4` → 5.0\nExponentiation: `2 ** 3` → 8",
      "metadata": {}
    },
    {
      "cell_type": "code",
      "source": "#This a simple arithmetic expression to mutiply then add integers\n(3*4)+5\n",
      "metadata": {
        "trusted": true
      },
      "outputs": [
        {
          "execution_count": 6,
          "output_type": "execute_result",
          "data": {
            "text/plain": "17"
          },
          "metadata": {}
        }
      ],
      "execution_count": 6
    },
    {
      "cell_type": "code",
      "source": "# This will convert 200 minutes to hours by diving by 60.\n(200/60)\n",
      "metadata": {
        "trusted": true
      },
      "outputs": [
        {
          "execution_count": 7,
          "output_type": "execute_result",
          "data": {
            "text/plain": "3.3333333333333335"
          },
          "metadata": {}
        }
      ],
      "execution_count": 7
    },
    {
      "cell_type": "markdown",
      "source": "**Objectives**\n\nIn this notebook, we will cover the following key points:\n\n- List popular languages for Data Science.\n- List popular used libraries for Data Science.\n- Explaining with basic arithmetic operations examples.\n- Convert time units, such as minutes to hours.\n\n",
      "metadata": {}
    },
    {
      "cell_type": "markdown",
      "source": "## Author\n\nBATIKAN OVA",
      "metadata": {}
    },
    {
      "cell_type": "code",
      "source": "",
      "metadata": {
        "trusted": true
      },
      "outputs": [],
      "execution_count": null
    },
    {
      "cell_type": "code",
      "source": "",
      "metadata": {
        "trusted": true
      },
      "outputs": [],
      "execution_count": null
    }
  ]
}